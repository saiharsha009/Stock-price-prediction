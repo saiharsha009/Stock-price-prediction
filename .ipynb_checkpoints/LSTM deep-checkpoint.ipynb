{
 "cells": [
  {
   "cell_type": "markdown",
   "metadata": {},
   "source": [
    "# stock price prediction project"
   ]
  },
  {
   "cell_type": "code",
   "execution_count": null,
   "metadata": {},
   "outputs": [],
   "source": [
    "#importing packages"
   ]
  },
  {
   "cell_type": "code",
   "execution_count": 7,
   "metadata": {},
   "outputs": [],
   "source": [
    "import numpy as np\n",
    "import pandas as pd\n",
    "import matplotlib.pyplot as plt\n",
    "import pandas_datareader as data\n"
   ]
  },
  {
   "cell_type": "code",
   "execution_count": null,
   "metadata": {},
   "outputs": [],
   "source": [
    "#we are taking data of APPLE company from 2016 to today i.e 2021-oct-31  "
   ]
  },
  {
   "cell_type": "code",
   "execution_count": 8,
   "metadata": {
    "scrolled": true
   },
   "outputs": [
    {
     "data": {
      "text/html": [
       "<div>\n",
       "<style scoped>\n",
       "    .dataframe tbody tr th:only-of-type {\n",
       "        vertical-align: middle;\n",
       "    }\n",
       "\n",
       "    .dataframe tbody tr th {\n",
       "        vertical-align: top;\n",
       "    }\n",
       "\n",
       "    .dataframe thead th {\n",
       "        text-align: right;\n",
       "    }\n",
       "</style>\n",
       "<table border=\"1\" class=\"dataframe\">\n",
       "  <thead>\n",
       "    <tr style=\"text-align: right;\">\n",
       "      <th></th>\n",
       "      <th>High</th>\n",
       "      <th>Low</th>\n",
       "      <th>Open</th>\n",
       "      <th>Close</th>\n",
       "      <th>Volume</th>\n",
       "      <th>Adj Close</th>\n",
       "    </tr>\n",
       "    <tr>\n",
       "      <th>Date</th>\n",
       "      <th></th>\n",
       "      <th></th>\n",
       "      <th></th>\n",
       "      <th></th>\n",
       "      <th></th>\n",
       "      <th></th>\n",
       "    </tr>\n",
       "  </thead>\n",
       "  <tbody>\n",
       "    <tr>\n",
       "      <th>2015-12-31</th>\n",
       "      <td>26.757500</td>\n",
       "      <td>26.205000</td>\n",
       "      <td>26.752501</td>\n",
       "      <td>26.315001</td>\n",
       "      <td>163649200.0</td>\n",
       "      <td>24.199890</td>\n",
       "    </tr>\n",
       "    <tr>\n",
       "      <th>2016-01-04</th>\n",
       "      <td>26.342501</td>\n",
       "      <td>25.500000</td>\n",
       "      <td>25.652500</td>\n",
       "      <td>26.337500</td>\n",
       "      <td>270597600.0</td>\n",
       "      <td>24.220579</td>\n",
       "    </tr>\n",
       "    <tr>\n",
       "      <th>2016-01-05</th>\n",
       "      <td>26.462500</td>\n",
       "      <td>25.602501</td>\n",
       "      <td>26.437500</td>\n",
       "      <td>25.677500</td>\n",
       "      <td>223164000.0</td>\n",
       "      <td>23.613628</td>\n",
       "    </tr>\n",
       "    <tr>\n",
       "      <th>2016-01-06</th>\n",
       "      <td>25.592501</td>\n",
       "      <td>24.967501</td>\n",
       "      <td>25.139999</td>\n",
       "      <td>25.174999</td>\n",
       "      <td>273829600.0</td>\n",
       "      <td>23.151518</td>\n",
       "    </tr>\n",
       "    <tr>\n",
       "      <th>2016-01-07</th>\n",
       "      <td>25.032499</td>\n",
       "      <td>24.107500</td>\n",
       "      <td>24.670000</td>\n",
       "      <td>24.112499</td>\n",
       "      <td>324377600.0</td>\n",
       "      <td>22.174419</td>\n",
       "    </tr>\n",
       "  </tbody>\n",
       "</table>\n",
       "</div>"
      ],
      "text/plain": [
       "                 High        Low       Open      Close       Volume  Adj Close\n",
       "Date                                                                          \n",
       "2015-12-31  26.757500  26.205000  26.752501  26.315001  163649200.0  24.199890\n",
       "2016-01-04  26.342501  25.500000  25.652500  26.337500  270597600.0  24.220579\n",
       "2016-01-05  26.462500  25.602501  26.437500  25.677500  223164000.0  23.613628\n",
       "2016-01-06  25.592501  24.967501  25.139999  25.174999  273829600.0  23.151518\n",
       "2016-01-07  25.032499  24.107500  24.670000  24.112499  324377600.0  22.174419"
      ]
     },
     "execution_count": 8,
     "metadata": {},
     "output_type": "execute_result"
    }
   ],
   "source": [
    "start = '2016-01-01'\n",
    "end = '2021-10-31'\n",
    "\n",
    "df = data.DataReader('AAPL','yahoo',start,end)\n",
    "df.head()"
   ]
  },
  {
   "cell_type": "code",
   "execution_count": null,
   "metadata": {},
   "outputs": [],
   "source": [
    "# it is giving data upto given dates "
   ]
  },
  {
   "cell_type": "code",
   "execution_count": 9,
   "metadata": {
    "scrolled": true
   },
   "outputs": [
    {
     "data": {
      "text/html": [
       "<div>\n",
       "<style scoped>\n",
       "    .dataframe tbody tr th:only-of-type {\n",
       "        vertical-align: middle;\n",
       "    }\n",
       "\n",
       "    .dataframe tbody tr th {\n",
       "        vertical-align: top;\n",
       "    }\n",
       "\n",
       "    .dataframe thead th {\n",
       "        text-align: right;\n",
       "    }\n",
       "</style>\n",
       "<table border=\"1\" class=\"dataframe\">\n",
       "  <thead>\n",
       "    <tr style=\"text-align: right;\">\n",
       "      <th></th>\n",
       "      <th>High</th>\n",
       "      <th>Low</th>\n",
       "      <th>Open</th>\n",
       "      <th>Close</th>\n",
       "      <th>Volume</th>\n",
       "      <th>Adj Close</th>\n",
       "    </tr>\n",
       "    <tr>\n",
       "      <th>Date</th>\n",
       "      <th></th>\n",
       "      <th></th>\n",
       "      <th></th>\n",
       "      <th></th>\n",
       "      <th></th>\n",
       "      <th></th>\n",
       "    </tr>\n",
       "  </thead>\n",
       "  <tbody>\n",
       "    <tr>\n",
       "      <th>2021-10-25</th>\n",
       "      <td>149.369995</td>\n",
       "      <td>147.619995</td>\n",
       "      <td>148.679993</td>\n",
       "      <td>148.639999</td>\n",
       "      <td>50720600.0</td>\n",
       "      <td>148.234528</td>\n",
       "    </tr>\n",
       "    <tr>\n",
       "      <th>2021-10-26</th>\n",
       "      <td>150.839996</td>\n",
       "      <td>149.009995</td>\n",
       "      <td>149.330002</td>\n",
       "      <td>149.320007</td>\n",
       "      <td>60893400.0</td>\n",
       "      <td>148.912674</td>\n",
       "    </tr>\n",
       "    <tr>\n",
       "      <th>2021-10-27</th>\n",
       "      <td>149.729996</td>\n",
       "      <td>148.490005</td>\n",
       "      <td>149.360001</td>\n",
       "      <td>148.850006</td>\n",
       "      <td>56094900.0</td>\n",
       "      <td>148.443954</td>\n",
       "    </tr>\n",
       "    <tr>\n",
       "      <th>2021-10-28</th>\n",
       "      <td>153.169998</td>\n",
       "      <td>149.720001</td>\n",
       "      <td>149.820007</td>\n",
       "      <td>152.570007</td>\n",
       "      <td>100077900.0</td>\n",
       "      <td>152.153809</td>\n",
       "    </tr>\n",
       "    <tr>\n",
       "      <th>2021-10-29</th>\n",
       "      <td>149.940002</td>\n",
       "      <td>146.410004</td>\n",
       "      <td>147.220001</td>\n",
       "      <td>149.800003</td>\n",
       "      <td>124953200.0</td>\n",
       "      <td>149.391357</td>\n",
       "    </tr>\n",
       "  </tbody>\n",
       "</table>\n",
       "</div>"
      ],
      "text/plain": [
       "                  High         Low        Open       Close       Volume  \\\n",
       "Date                                                                      \n",
       "2021-10-25  149.369995  147.619995  148.679993  148.639999   50720600.0   \n",
       "2021-10-26  150.839996  149.009995  149.330002  149.320007   60893400.0   \n",
       "2021-10-27  149.729996  148.490005  149.360001  148.850006   56094900.0   \n",
       "2021-10-28  153.169998  149.720001  149.820007  152.570007  100077900.0   \n",
       "2021-10-29  149.940002  146.410004  147.220001  149.800003  124953200.0   \n",
       "\n",
       "             Adj Close  \n",
       "Date                    \n",
       "2021-10-25  148.234528  \n",
       "2021-10-26  148.912674  \n",
       "2021-10-27  148.443954  \n",
       "2021-10-28  152.153809  \n",
       "2021-10-29  149.391357  "
      ]
     },
     "execution_count": 9,
     "metadata": {},
     "output_type": "execute_result"
    }
   ],
   "source": [
    "df.tail()"
   ]
  },
  {
   "cell_type": "code",
   "execution_count": null,
   "metadata": {},
   "outputs": [],
   "source": [
    "#resting dates using 'reset_index'"
   ]
  },
  {
   "cell_type": "code",
   "execution_count": 10,
   "metadata": {
    "scrolled": true
   },
   "outputs": [
    {
     "data": {
      "text/html": [
       "<div>\n",
       "<style scoped>\n",
       "    .dataframe tbody tr th:only-of-type {\n",
       "        vertical-align: middle;\n",
       "    }\n",
       "\n",
       "    .dataframe tbody tr th {\n",
       "        vertical-align: top;\n",
       "    }\n",
       "\n",
       "    .dataframe thead th {\n",
       "        text-align: right;\n",
       "    }\n",
       "</style>\n",
       "<table border=\"1\" class=\"dataframe\">\n",
       "  <thead>\n",
       "    <tr style=\"text-align: right;\">\n",
       "      <th></th>\n",
       "      <th>Date</th>\n",
       "      <th>High</th>\n",
       "      <th>Low</th>\n",
       "      <th>Open</th>\n",
       "      <th>Close</th>\n",
       "      <th>Volume</th>\n",
       "      <th>Adj Close</th>\n",
       "    </tr>\n",
       "  </thead>\n",
       "  <tbody>\n",
       "    <tr>\n",
       "      <th>0</th>\n",
       "      <td>2015-12-31</td>\n",
       "      <td>26.757500</td>\n",
       "      <td>26.205000</td>\n",
       "      <td>26.752501</td>\n",
       "      <td>26.315001</td>\n",
       "      <td>163649200.0</td>\n",
       "      <td>24.199890</td>\n",
       "    </tr>\n",
       "    <tr>\n",
       "      <th>1</th>\n",
       "      <td>2016-01-04</td>\n",
       "      <td>26.342501</td>\n",
       "      <td>25.500000</td>\n",
       "      <td>25.652500</td>\n",
       "      <td>26.337500</td>\n",
       "      <td>270597600.0</td>\n",
       "      <td>24.220579</td>\n",
       "    </tr>\n",
       "    <tr>\n",
       "      <th>2</th>\n",
       "      <td>2016-01-05</td>\n",
       "      <td>26.462500</td>\n",
       "      <td>25.602501</td>\n",
       "      <td>26.437500</td>\n",
       "      <td>25.677500</td>\n",
       "      <td>223164000.0</td>\n",
       "      <td>23.613628</td>\n",
       "    </tr>\n",
       "    <tr>\n",
       "      <th>3</th>\n",
       "      <td>2016-01-06</td>\n",
       "      <td>25.592501</td>\n",
       "      <td>24.967501</td>\n",
       "      <td>25.139999</td>\n",
       "      <td>25.174999</td>\n",
       "      <td>273829600.0</td>\n",
       "      <td>23.151518</td>\n",
       "    </tr>\n",
       "    <tr>\n",
       "      <th>4</th>\n",
       "      <td>2016-01-07</td>\n",
       "      <td>25.032499</td>\n",
       "      <td>24.107500</td>\n",
       "      <td>24.670000</td>\n",
       "      <td>24.112499</td>\n",
       "      <td>324377600.0</td>\n",
       "      <td>22.174419</td>\n",
       "    </tr>\n",
       "  </tbody>\n",
       "</table>\n",
       "</div>"
      ],
      "text/plain": [
       "        Date       High        Low       Open      Close       Volume  \\\n",
       "0 2015-12-31  26.757500  26.205000  26.752501  26.315001  163649200.0   \n",
       "1 2016-01-04  26.342501  25.500000  25.652500  26.337500  270597600.0   \n",
       "2 2016-01-05  26.462500  25.602501  26.437500  25.677500  223164000.0   \n",
       "3 2016-01-06  25.592501  24.967501  25.139999  25.174999  273829600.0   \n",
       "4 2016-01-07  25.032499  24.107500  24.670000  24.112499  324377600.0   \n",
       "\n",
       "   Adj Close  \n",
       "0  24.199890  \n",
       "1  24.220579  \n",
       "2  23.613628  \n",
       "3  23.151518  \n",
       "4  22.174419  "
      ]
     },
     "execution_count": 10,
     "metadata": {},
     "output_type": "execute_result"
    }
   ],
   "source": [
    "df =df.reset_index()\n",
    "df.head()"
   ]
  },
  {
   "cell_type": "code",
   "execution_count": null,
   "metadata": {},
   "outputs": [],
   "source": [
    "#droping unwanted cloumns those are  date and Adj Close\n",
    "#using drop function"
   ]
  },
  {
   "cell_type": "code",
   "execution_count": 11,
   "metadata": {
    "scrolled": true
   },
   "outputs": [
    {
     "data": {
      "text/html": [
       "<div>\n",
       "<style scoped>\n",
       "    .dataframe tbody tr th:only-of-type {\n",
       "        vertical-align: middle;\n",
       "    }\n",
       "\n",
       "    .dataframe tbody tr th {\n",
       "        vertical-align: top;\n",
       "    }\n",
       "\n",
       "    .dataframe thead th {\n",
       "        text-align: right;\n",
       "    }\n",
       "</style>\n",
       "<table border=\"1\" class=\"dataframe\">\n",
       "  <thead>\n",
       "    <tr style=\"text-align: right;\">\n",
       "      <th></th>\n",
       "      <th>High</th>\n",
       "      <th>Low</th>\n",
       "      <th>Open</th>\n",
       "      <th>Close</th>\n",
       "      <th>Volume</th>\n",
       "    </tr>\n",
       "  </thead>\n",
       "  <tbody>\n",
       "    <tr>\n",
       "      <th>0</th>\n",
       "      <td>26.757500</td>\n",
       "      <td>26.205000</td>\n",
       "      <td>26.752501</td>\n",
       "      <td>26.315001</td>\n",
       "      <td>163649200.0</td>\n",
       "    </tr>\n",
       "    <tr>\n",
       "      <th>1</th>\n",
       "      <td>26.342501</td>\n",
       "      <td>25.500000</td>\n",
       "      <td>25.652500</td>\n",
       "      <td>26.337500</td>\n",
       "      <td>270597600.0</td>\n",
       "    </tr>\n",
       "    <tr>\n",
       "      <th>2</th>\n",
       "      <td>26.462500</td>\n",
       "      <td>25.602501</td>\n",
       "      <td>26.437500</td>\n",
       "      <td>25.677500</td>\n",
       "      <td>223164000.0</td>\n",
       "    </tr>\n",
       "    <tr>\n",
       "      <th>3</th>\n",
       "      <td>25.592501</td>\n",
       "      <td>24.967501</td>\n",
       "      <td>25.139999</td>\n",
       "      <td>25.174999</td>\n",
       "      <td>273829600.0</td>\n",
       "    </tr>\n",
       "    <tr>\n",
       "      <th>4</th>\n",
       "      <td>25.032499</td>\n",
       "      <td>24.107500</td>\n",
       "      <td>24.670000</td>\n",
       "      <td>24.112499</td>\n",
       "      <td>324377600.0</td>\n",
       "    </tr>\n",
       "  </tbody>\n",
       "</table>\n",
       "</div>"
      ],
      "text/plain": [
       "        High        Low       Open      Close       Volume\n",
       "0  26.757500  26.205000  26.752501  26.315001  163649200.0\n",
       "1  26.342501  25.500000  25.652500  26.337500  270597600.0\n",
       "2  26.462500  25.602501  26.437500  25.677500  223164000.0\n",
       "3  25.592501  24.967501  25.139999  25.174999  273829600.0\n",
       "4  25.032499  24.107500  24.670000  24.112499  324377600.0"
      ]
     },
     "execution_count": 11,
     "metadata": {},
     "output_type": "execute_result"
    }
   ],
   "source": [
    "df = df.drop(['Date','Adj Close'],axis=1)\n",
    "df.head()"
   ]
  },
  {
   "cell_type": "code",
   "execution_count": null,
   "metadata": {},
   "outputs": [],
   "source": [
    "#sharemarket closing value is important so,first i a plotting close market graph"
   ]
  },
  {
   "cell_type": "code",
   "execution_count": null,
   "metadata": {},
   "outputs": [],
   "source": [
    "#graph uses \"matplotlib.pyplot\" "
   ]
  },
  {
   "cell_type": "code",
   "execution_count": 12,
   "metadata": {
    "scrolled": true
   },
   "outputs": [
    {
     "data": {
      "text/plain": [
       "[<matplotlib.lines.Line2D at 0x264285ead90>]"
      ]
     },
     "execution_count": 12,
     "metadata": {},
     "output_type": "execute_result"
    },
    {
     "data": {
      "image/png": "[encoded data removed]",
      "text/plain": [
       "<Figure size 432x288 with 1 Axes>"
      ]
     },
     "metadata": {
      "needs_background": "light"
     },
     "output_type": "display_data"
    }
   ],
   "source": [
    "plt.plot(df.Close)"
   ]
  },
  {
   "cell_type": "code",
   "execution_count": 66,
   "metadata": {
    "scrolled": true
   },
   "outputs": [
    {
     "data": {
      "text/html": [
       "<div>\n",
       "<style scoped>\n",
       "    .dataframe tbody tr th:only-of-type {\n",
       "        vertical-align: middle;\n",
       "    }\n",
       "\n",
       "    .dataframe tbody tr th {\n",
       "        vertical-align: top;\n",
       "    }\n",
       "\n",
       "    .dataframe thead th {\n",
       "        text-align: right;\n",
       "    }\n",
       "</style>\n",
       "<table border=\"1\" class=\"dataframe\">\n",
       "  <thead>\n",
       "    <tr style=\"text-align: right;\">\n",
       "      <th></th>\n",
       "      <th>High</th>\n",
       "      <th>Low</th>\n",
       "      <th>Open</th>\n",
       "      <th>Close</th>\n",
       "      <th>Volume</th>\n",
       "    </tr>\n",
       "  </thead>\n",
       "  <tbody>\n",
       "    <tr>\n",
       "      <th>0</th>\n",
       "      <td>26.757500</td>\n",
       "      <td>26.205000</td>\n",
       "      <td>26.752501</td>\n",
       "      <td>26.315001</td>\n",
       "      <td>163649200.0</td>\n",
       "    </tr>\n",
       "    <tr>\n",
       "      <th>1</th>\n",
       "      <td>26.342501</td>\n",
       "      <td>25.500000</td>\n",
       "      <td>25.652500</td>\n",
       "      <td>26.337500</td>\n",
       "      <td>270597600.0</td>\n",
       "    </tr>\n",
       "    <tr>\n",
       "      <th>2</th>\n",
       "      <td>26.462500</td>\n",
       "      <td>25.602501</td>\n",
       "      <td>26.437500</td>\n",
       "      <td>25.677500</td>\n",
       "      <td>223164000.0</td>\n",
       "    </tr>\n",
       "    <tr>\n",
       "      <th>3</th>\n",
       "      <td>25.592501</td>\n",
       "      <td>24.967501</td>\n",
       "      <td>25.139999</td>\n",
       "      <td>25.174999</td>\n",
       "      <td>273829600.0</td>\n",
       "    </tr>\n",
       "    <tr>\n",
       "      <th>4</th>\n",
       "      <td>25.032499</td>\n",
       "      <td>24.107500</td>\n",
       "      <td>24.670000</td>\n",
       "      <td>24.112499</td>\n",
       "      <td>324377600.0</td>\n",
       "    </tr>\n",
       "    <tr>\n",
       "      <th>...</th>\n",
       "      <td>...</td>\n",
       "      <td>...</td>\n",
       "      <td>...</td>\n",
       "      <td>...</td>\n",
       "      <td>...</td>\n",
       "    </tr>\n",
       "    <tr>\n",
       "      <th>1464</th>\n",
       "      <td>149.369995</td>\n",
       "      <td>147.619995</td>\n",
       "      <td>148.679993</td>\n",
       "      <td>148.639999</td>\n",
       "      <td>50720600.0</td>\n",
       "    </tr>\n",
       "    <tr>\n",
       "      <th>1465</th>\n",
       "      <td>150.839996</td>\n",
       "      <td>149.009995</td>\n",
       "      <td>149.330002</td>\n",
       "      <td>149.320007</td>\n",
       "      <td>60893400.0</td>\n",
       "    </tr>\n",
       "    <tr>\n",
       "      <th>1466</th>\n",
       "      <td>149.729996</td>\n",
       "      <td>148.490005</td>\n",
       "      <td>149.360001</td>\n",
       "      <td>148.850006</td>\n",
       "      <td>56094900.0</td>\n",
       "    </tr>\n",
       "    <tr>\n",
       "      <th>1467</th>\n",
       "      <td>153.169998</td>\n",
       "      <td>149.720001</td>\n",
       "      <td>149.820007</td>\n",
       "      <td>152.570007</td>\n",
       "      <td>100077900.0</td>\n",
       "    </tr>\n",
       "    <tr>\n",
       "      <th>1468</th>\n",
       "      <td>149.940002</td>\n",
       "      <td>146.410004</td>\n",
       "      <td>147.220001</td>\n",
       "      <td>149.800003</td>\n",
       "      <td>124850400.0</td>\n",
       "    </tr>\n",
       "  </tbody>\n",
       "</table>\n",
       "<p>1469 rows × 5 columns</p>\n",
       "</div>"
      ],
      "text/plain": [
       "            High         Low        Open       Close       Volume\n",
       "0      26.757500   26.205000   26.752501   26.315001  163649200.0\n",
       "1      26.342501   25.500000   25.652500   26.337500  270597600.0\n",
       "2      26.462500   25.602501   26.437500   25.677500  223164000.0\n",
       "3      25.592501   24.967501   25.139999   25.174999  273829600.0\n",
       "4      25.032499   24.107500   24.670000   24.112499  324377600.0\n",
       "...          ...         ...         ...         ...          ...\n",
       "1464  149.369995  147.619995  148.679993  148.639999   50720600.0\n",
       "1465  150.839996  149.009995  149.330002  149.320007   60893400.0\n",
       "1466  149.729996  148.490005  149.360001  148.850006   56094900.0\n",
       "1467  153.169998  149.720001  149.820007  152.570007  100077900.0\n",
       "1468  149.940002  146.410004  147.220001  149.800003  124850400.0\n",
       "\n",
       "[1469 rows x 5 columns]"
      ]
     },
     "execution_count": 66,
     "metadata": {},
     "output_type": "execute_result"
    }
   ],
   "source": [
    "df\n"
   ]
  },
  {
   "cell_type": "code",
   "execution_count": 13,
   "metadata": {
    "scrolled": true
   },
   "outputs": [
    {
     "data": {
      "text/plain": [
       "0            NaN\n",
       "1            NaN\n",
       "2            NaN\n",
       "3            NaN\n",
       "4            NaN\n",
       "          ...   \n",
       "1464    143.6478\n",
       "1465    143.8821\n",
       "1466    144.1116\n",
       "1467    144.3699\n",
       "1468    144.5966\n",
       "Name: Close, Length: 1469, dtype: float64"
      ]
     },
     "execution_count": 13,
     "metadata": {},
     "output_type": "execute_result"
    }
   ],
   "source": [
    "ma100 = df.Close.rolling(100).mean()\n",
    "ma100"
   ]
  },
  {
   "cell_type": "code",
   "execution_count": null,
   "metadata": {},
   "outputs": [],
   "source": [
    "# ploting mean avg of except first 100 days i.e ma100\n",
    "#plt.plot(ma100,'r'):r->red,g->green,y->yellow etc..."
   ]
  },
  {
   "cell_type": "code",
   "execution_count": 14,
   "metadata": {
    "scrolled": true
   },
   "outputs": [
    {
     "data": {
      "text/plain": [
       "[<matplotlib.lines.Line2D at 0x26428613250>]"
      ]
     },
     "execution_count": 14,
     "metadata": {},
     "output_type": "execute_result"
    },
    {
     "data": {
      "image/png": "[encoded data removed]",
      "text/plain": [
       "<Figure size 864x432 with 1 Axes>"
      ]
     },
     "metadata": {
      "needs_background": "light"
     },
     "output_type": "display_data"
    }
   ],
   "source": [
    "plt.figure(figsize=(12,6))\n",
    "plt.plot(df.Close)\n",
    "plt.plot(ma100,'r')"
   ]
  },
  {
   "cell_type": "code",
   "execution_count": null,
   "metadata": {},
   "outputs": [],
   "source": [
    "# ploting mean avg of except first 200 days i.e ma100"
   ]
  },
  {
   "cell_type": "code",
   "execution_count": 15,
   "metadata": {
    "scrolled": true
   },
   "outputs": [
    {
     "data": {
      "text/plain": [
       "0             NaN\n",
       "1             NaN\n",
       "2             NaN\n",
       "3             NaN\n",
       "4             NaN\n",
       "          ...    \n",
       "1464    136.10630\n",
       "1465    136.20800\n",
       "1466    136.30825\n",
       "1467    136.41665\n",
       "1468    136.52110\n",
       "Name: Close, Length: 1469, dtype: float64"
      ]
     },
     "execution_count": 15,
     "metadata": {},
     "output_type": "execute_result"
    }
   ],
   "source": [
    "ma200=df.Close.rolling(200).mean()\n",
    "ma200"
   ]
  },
  {
   "cell_type": "code",
   "execution_count": null,
   "metadata": {},
   "outputs": [],
   "source": [
    "#plotting both ma100 and ma200 in the same graph"
   ]
  },
  {
   "cell_type": "code",
   "execution_count": 16,
   "metadata": {},
   "outputs": [
    {
     "data": {
      "text/plain": [
       "[<matplotlib.lines.Line2D at 0x26428491fa0>]"
      ]
     },
     "execution_count": 16,
     "metadata": {},
     "output_type": "execute_result"
    },
    {
     "data": {
      "image/png": "[encoded data removed]",
      "text/plain": [
       "<Figure size 864x432 with 1 Axes>"
      ]
     },
     "metadata": {
      "needs_background": "light"
     },
     "output_type": "display_data"
    }
   ],
   "source": [
    "plt.figure(figsize=(12,6))\n",
    "plt.plot(df.Close)\n",
    "plt.plot(ma100,'r')\n",
    "plt.plot(ma200,'g')"
   ]
  },
  {
   "cell_type": "code",
   "execution_count": 17,
   "metadata": {},
   "outputs": [
    {
     "data": {
      "text/plain": [
       "(1469, 5)"
      ]
     },
     "execution_count": 17,
     "metadata": {},
     "output_type": "execute_result"
    }
   ],
   "source": [
    "df.shape"
   ]
  },
  {
   "cell_type": "code",
   "execution_count": null,
   "metadata": {},
   "outputs": [],
   "source": [
    "#splitting our data to training and testing\n"
   ]
  },
  {
   "cell_type": "code",
   "execution_count": 18,
   "metadata": {},
   "outputs": [
    {
     "name": "stdout",
     "output_type": "stream",
     "text": [
      "(1028, 1)\n",
      "(441, 1)\n"
     ]
    }
   ],
   "source": [
    "data_train = pd.DataFrame(df['Close'][0:int(len(df)*0.70)])\n",
    "data_test= pd.DataFrame(df['Close'][int(len(df)*0.70) :int(len(df))])\n",
    "print(data_train.shape)\n",
    "print(data_test.shape)      "
   ]
  },
  {
   "cell_type": "code",
   "execution_count": 19,
   "metadata": {},
   "outputs": [
    {
     "data": {
      "text/html": [
       "<div>\n",
       "<style scoped>\n",
       "    .dataframe tbody tr th:only-of-type {\n",
       "        vertical-align: middle;\n",
       "    }\n",
       "\n",
       "    .dataframe tbody tr th {\n",
       "        vertical-align: top;\n",
       "    }\n",
       "\n",
       "    .dataframe thead th {\n",
       "        text-align: right;\n",
       "    }\n",
       "</style>\n",
       "<table border=\"1\" class=\"dataframe\">\n",
       "  <thead>\n",
       "    <tr style=\"text-align: right;\">\n",
       "      <th></th>\n",
       "      <th>Close</th>\n",
       "    </tr>\n",
       "  </thead>\n",
       "  <tbody>\n",
       "    <tr>\n",
       "      <th>0</th>\n",
       "      <td>26.315001</td>\n",
       "    </tr>\n",
       "    <tr>\n",
       "      <th>1</th>\n",
       "      <td>26.337500</td>\n",
       "    </tr>\n",
       "    <tr>\n",
       "      <th>2</th>\n",
       "      <td>25.677500</td>\n",
       "    </tr>\n",
       "    <tr>\n",
       "      <th>3</th>\n",
       "      <td>25.174999</td>\n",
       "    </tr>\n",
       "    <tr>\n",
       "      <th>4</th>\n",
       "      <td>24.112499</td>\n",
       "    </tr>\n",
       "  </tbody>\n",
       "</table>\n",
       "</div>"
      ],
      "text/plain": [
       "       Close\n",
       "0  26.315001\n",
       "1  26.337500\n",
       "2  25.677500\n",
       "3  25.174999\n",
       "4  24.112499"
      ]
     },
     "execution_count": 19,
     "metadata": {},
     "output_type": "execute_result"
    }
   ],
   "source": [
    "data_train.head()"
   ]
  },
  {
   "cell_type": "code",
   "execution_count": 20,
   "metadata": {},
   "outputs": [
    {
     "data": {
      "text/html": [
       "<div>\n",
       "<style scoped>\n",
       "    .dataframe tbody tr th:only-of-type {\n",
       "        vertical-align: middle;\n",
       "    }\n",
       "\n",
       "    .dataframe tbody tr th {\n",
       "        vertical-align: top;\n",
       "    }\n",
       "\n",
       "    .dataframe thead th {\n",
       "        text-align: right;\n",
       "    }\n",
       "</style>\n",
       "<table border=\"1\" class=\"dataframe\">\n",
       "  <thead>\n",
       "    <tr style=\"text-align: right;\">\n",
       "      <th></th>\n",
       "      <th>Close</th>\n",
       "    </tr>\n",
       "  </thead>\n",
       "  <tbody>\n",
       "    <tr>\n",
       "      <th>1028</th>\n",
       "      <td>77.165001</td>\n",
       "    </tr>\n",
       "    <tr>\n",
       "      <th>1029</th>\n",
       "      <td>79.712502</td>\n",
       "    </tr>\n",
       "    <tr>\n",
       "      <th>1030</th>\n",
       "      <td>80.362503</td>\n",
       "    </tr>\n",
       "    <tr>\n",
       "      <th>1031</th>\n",
       "      <td>81.302498</td>\n",
       "    </tr>\n",
       "    <tr>\n",
       "      <th>1032</th>\n",
       "      <td>80.007500</td>\n",
       "    </tr>\n",
       "  </tbody>\n",
       "</table>\n",
       "</div>"
      ],
      "text/plain": [
       "          Close\n",
       "1028  77.165001\n",
       "1029  79.712502\n",
       "1030  80.362503\n",
       "1031  81.302498\n",
       "1032  80.007500"
      ]
     },
     "execution_count": 20,
     "metadata": {},
     "output_type": "execute_result"
    }
   ],
   "source": [
    "data_test.head()"
   ]
  },
  {
   "cell_type": "code",
   "execution_count": null,
   "metadata": {},
   "outputs": [],
   "source": [
    "#scalaing the data from 1 to 100"
   ]
  },
  {
   "cell_type": "code",
   "execution_count": 21,
   "metadata": {},
   "outputs": [],
   "source": [
    "from sklearn import preprocessing"
   ]
  },
  {
   "cell_type": "code",
   "execution_count": 22,
   "metadata": {},
   "outputs": [],
   "source": [
    "from sklearn.preprocessing import MinMaxScaler\n",
    "scaler=MinMaxScaler(feature_range=(0,1))\n"
   ]
  },
  {
   "cell_type": "code",
   "execution_count": null,
   "metadata": {},
   "outputs": [],
   "source": [
    "#converting minmaxscaler into an array\n",
    "#scaler.fit_transform(data_train)->keeps training data into array"
   ]
  },
  {
   "cell_type": "code",
   "execution_count": 23,
   "metadata": {
    "scrolled": false
   },
   "outputs": [
    {
     "data": {
      "text/plain": [
       "array([[0.06376071],\n",
       "       [0.06414531],\n",
       "       [0.05286326],\n",
       "       ...,\n",
       "       [1.        ],\n",
       "       [0.99799145],\n",
       "       [0.93662399]])"
      ]
     },
     "execution_count": 23,
     "metadata": {},
     "output_type": "execute_result"
    }
   ],
   "source": [
    "data_train_array=scaler.fit_transform(data_train)\n",
    "data_train_array"
   ]
  },
  {
   "cell_type": "code",
   "execution_count": 24,
   "metadata": {},
   "outputs": [
    {
     "data": {
      "text/plain": [
       "(1028, 1)"
      ]
     },
     "execution_count": 24,
     "metadata": {},
     "output_type": "execute_result"
    }
   ],
   "source": [
    "data_train_array.shape"
   ]
  },
  {
   "cell_type": "code",
   "execution_count": null,
   "metadata": {},
   "outputs": [],
   "source": [
    "#now we are dividing our trianing data into x train and y train\n"
   ]
  },
  {
   "cell_type": "code",
   "execution_count": 25,
   "metadata": {},
   "outputs": [],
   "source": [
    "x_train=[]\n",
    "y_train=[]\n",
    "\n",
    "for i in range(100,data_train_array.shape[0]):\n",
    "    x_train.append(data_train_array[i-100:i])\n",
    "    y_train.append(data_train_array[i,0])\n",
    "x_train,y_train=np.array(x_train),np.array(y_train)"
   ]
  },
  {
   "cell_type": "code",
   "execution_count": 26,
   "metadata": {},
   "outputs": [],
   "source": [
    "from keras.layers import Dense,Dropout,LSTM\n",
    "from keras.models import Sequential"
   ]
  },
  {
   "cell_type": "code",
   "execution_count": 27,
   "metadata": {},
   "outputs": [],
   "source": [
    "model=Sequential()\n",
    "model.add(LSTM(units=50,activation='relu',return_sequences=True,input_shape=(x_train.shape[1],1)))\n",
    "model.add(Dropout(0.2))\n",
    "\n",
    "model.add(LSTM(units=60,activation='relu',return_sequences=True))\n",
    "model.add(Dropout(0.3))\n",
    "\n",
    "               \n",
    "model.add(LSTM(units=80,activation='relu',return_sequences=True))\n",
    "model.add(Dropout(0.3))\n",
    "\n",
    "model.add(LSTM(units=120,activation='relu'))\n",
    "model.add(Dropout(0.5))\n",
    "model.add(Dense(units=1))               \n",
    "               "
   ]
  },
  {
   "cell_type": "code",
   "execution_count": 28,
   "metadata": {},
   "outputs": [
    {
     "name": "stdout",
     "output_type": "stream",
     "text": [
      "Model: \"sequential_1\"\n",
      "_________________________________________________________________\n",
      " Layer (type)                Output Shape              Param #   \n",
      "=================================================================\n",
      " lstm (LSTM)                 (None, 100, 50)           10400     \n",
      "                                                                 \n",
      " dropout (Dropout)           (None, 100, 50)           0         \n",
      "                                                                 \n",
      " lstm_1 (LSTM)               (None, 100, 60)           26640     \n",
      "                                                                 \n",
      " dropout_1 (Dropout)         (None, 100, 60)           0         \n",
      "                                                                 \n",
      " lstm_2 (LSTM)               (None, 100, 80)           45120     \n",
      "                                                                 \n",
      " dropout_2 (Dropout)         (None, 100, 80)           0         \n",
      "                                                                 \n",
      " lstm_3 (LSTM)               (None, 120)               96480     \n",
      "                                                                 \n",
      " dropout_3 (Dropout)         (None, 120)               0         \n",
      "                                                                 \n",
      " dense (Dense)               (None, 1)                 121       \n",
      "                                                                 \n",
      "=================================================================\n",
      "Total params: 178,761\n",
      "Trainable params: 178,761\n",
      "Non-trainable params: 0\n",
      "_________________________________________________________________\n"
     ]
    }
   ],
   "source": [
    "model.summary()"
   ]
  },
  {
   "cell_type": "code",
   "execution_count": 29,
   "metadata": {},
   "outputs": [
    {
     "name": "stdout",
     "output_type": "stream",
     "text": [
      "Epoch 1/50\n",
      "29/29 [==============================] - 10s 206ms/step - loss: 0.0625\n",
      "Epoch 2/50\n",
      "29/29 [==============================] - 5s 183ms/step - loss: 0.0120\n",
      "Epoch 3/50\n",
      "29/29 [==============================] - 5s 178ms/step - loss: 0.0090\n",
      "Epoch 4/50\n",
      "29/29 [==============================] - 6s 193ms/step - loss: 0.0072\n",
      "Epoch 5/50\n",
      "29/29 [==============================] - 5s 171ms/step - loss: 0.0070\n",
      "Epoch 6/50\n",
      "29/29 [==============================] - 5s 180ms/step - loss: 0.0057\n",
      "Epoch 7/50\n",
      "29/29 [==============================] - 6s 193ms/step - loss: 0.0069\n",
      "Epoch 8/50\n",
      "29/29 [==============================] - 5s 175ms/step - loss: 0.0054\n",
      "Epoch 9/50\n",
      "29/29 [==============================] - 5s 180ms/step - loss: 0.0057\n",
      "Epoch 10/50\n",
      "29/29 [==============================] - 6s 194ms/step - loss: 0.0055\n",
      "Epoch 11/50\n",
      "29/29 [==============================] - 5s 177ms/step - loss: 0.0049\n",
      "Epoch 12/50\n",
      "29/29 [==============================] - 5s 181ms/step - loss: 0.0048\n",
      "Epoch 13/50\n",
      "29/29 [==============================] - 6s 208ms/step - loss: 0.0048\n",
      "Epoch 14/50\n",
      "29/29 [==============================] - 5s 179ms/step - loss: 0.0050\n",
      "Epoch 15/50\n",
      "29/29 [==============================] - 5s 181ms/step - loss: 0.0046\n",
      "Epoch 16/50\n",
      "29/29 [==============================] - 6s 194ms/step - loss: 0.0046\n",
      "Epoch 17/50\n",
      "29/29 [==============================] - 5s 174ms/step - loss: 0.0055\n",
      "Epoch 18/50\n",
      "29/29 [==============================] - 5s 186ms/step - loss: 0.0043\n",
      "Epoch 19/50\n",
      "29/29 [==============================] - 6s 194ms/step - loss: 0.0041\n",
      "Epoch 20/50\n",
      "29/29 [==============================] - 5s 172ms/step - loss: 0.0042\n",
      "Epoch 21/50\n",
      "29/29 [==============================] - 5s 182ms/step - loss: 0.0044\n",
      "Epoch 22/50\n",
      "29/29 [==============================] - 6s 192ms/step - loss: 0.0042\n",
      "Epoch 23/50\n",
      "29/29 [==============================] - 5s 176ms/step - loss: 0.0044\n",
      "Epoch 24/50\n",
      "29/29 [==============================] - 5s 180ms/step - loss: 0.0038\n",
      "Epoch 25/50\n",
      "29/29 [==============================] - 6s 193ms/step - loss: 0.0037\n",
      "Epoch 26/50\n",
      "29/29 [==============================] - 5s 176ms/step - loss: 0.0039\n",
      "Epoch 27/50\n",
      "29/29 [==============================] - 5s 181ms/step - loss: 0.0035\n",
      "Epoch 28/50\n",
      "29/29 [==============================] - 6s 191ms/step - loss: 0.0040\n",
      "Epoch 29/50\n",
      "29/29 [==============================] - 5s 175ms/step - loss: 0.0035\n",
      "Epoch 30/50\n",
      "29/29 [==============================] - 5s 182ms/step - loss: 0.0035\n",
      "Epoch 31/50\n",
      "29/29 [==============================] - 6s 194ms/step - loss: 0.0033\n",
      "Epoch 32/50\n",
      "29/29 [==============================] - 5s 177ms/step - loss: 0.0035\n",
      "Epoch 33/50\n",
      "29/29 [==============================] - 5s 180ms/step - loss: 0.0039\n",
      "Epoch 34/50\n",
      "29/29 [==============================] - 6s 192ms/step - loss: 0.0037\n",
      "Epoch 35/50\n",
      "29/29 [==============================] - 5s 179ms/step - loss: 0.0040\n",
      "Epoch 36/50\n",
      "29/29 [==============================] - 5s 178ms/step - loss: 0.0035\n",
      "Epoch 37/50\n",
      "29/29 [==============================] - 6s 191ms/step - loss: 0.0028\n",
      "Epoch 38/50\n",
      "29/29 [==============================] - 5s 179ms/step - loss: 0.0034\n",
      "Epoch 39/50\n",
      "29/29 [==============================] - 5s 181ms/step - loss: 0.0031\n",
      "Epoch 40/50\n",
      "29/29 [==============================] - 6s 192ms/step - loss: 0.0031\n",
      "Epoch 41/50\n",
      "29/29 [==============================] - 5s 178ms/step - loss: 0.0030\n",
      "Epoch 42/50\n",
      "29/29 [==============================] - 5s 177ms/step - loss: 0.0030\n",
      "Epoch 43/50\n",
      "29/29 [==============================] - 6s 192ms/step - loss: 0.0031\n",
      "Epoch 44/50\n",
      "29/29 [==============================] - 5s 180ms/step - loss: 0.0026\n",
      "Epoch 45/50\n",
      "29/29 [==============================] - 5s 179ms/step - loss: 0.0031\n",
      "Epoch 46/50\n",
      "29/29 [==============================] - 6s 194ms/step - loss: 0.0025\n",
      "Epoch 47/50\n",
      "29/29 [==============================] - 5s 180ms/step - loss: 0.0025\n",
      "Epoch 48/50\n",
      "29/29 [==============================] - 5s 176ms/step - loss: 0.0027\n",
      "Epoch 49/50\n",
      "29/29 [==============================] - 6s 193ms/step - loss: 0.0029\n",
      "Epoch 50/50\n",
      "29/29 [==============================] - 5s 181ms/step - loss: 0.0025\n"
     ]
    },
    {
     "data": {
      "text/plain": [
       "<keras.callbacks.History at 0x2642c512f10>"
      ]
     },
     "execution_count": 29,
     "metadata": {},
     "output_type": "execute_result"
    }
   ],
   "source": [
    "model.compile(optimizer='adam',loss='mean_squared_error')\n",
    "model.fit(x_train,y_train,epochs=50)"
   ]
  },
  {
   "cell_type": "code",
   "execution_count": 30,
   "metadata": {},
   "outputs": [],
   "source": [
    "model.save('keras_harsh.h5')"
   ]
  },
  {
   "cell_type": "code",
   "execution_count": null,
   "metadata": {},
   "outputs": [],
   "source": []
  }
 ],
 "metadata": {
  "kernelspec": {
   "display_name": "Python 3",
   "language": "python",
   "name": "python3"
  },
  "language_info": {
   "codemirror_mode": {
    "name": "ipython",
    "version": 3
   },
   "file_extension": ".py",
   "mimetype": "text/x-python",
   "name": "python",
   "nbconvert_exporter": "python",
   "pygments_lexer": "ipython3",
   "version": "3.8.5"
  }
 },
 "nbformat": 4,
 "nbformat_minor": 4
}
